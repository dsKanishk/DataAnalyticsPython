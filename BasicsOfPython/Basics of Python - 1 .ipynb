{
 "cells": [
  {
   "cell_type": "code",
   "execution_count": 2,
   "id": "0d93b1b5",
   "metadata": {},
   "outputs": [],
   "source": [
    "#Open Source\n",
    "#Desktop Application \n",
    "#Web application - Django, Flask \n",
    "#Database Application \n",
    "#Games \n",
    "#Network Application \n",
    "#Data Analytics \n",
    "#Data Science \n",
    "    #Machine Learning \n",
    "#Artificial Intelligence\n",
    "    #Deep Learning \n",
    "#IoT Application \n",
    "#Automation "
   ]
  },
  {
   "cell_type": "code",
   "execution_count": 5,
   "id": "746a630f",
   "metadata": {},
   "outputs": [],
   "source": [
    "#Functional Programming - C Programming\n",
    "#Object Oriented Programming - C++ Programming \n",
    "#Scripting Language - Perl and Shell Scripting \n",
    "#Modular Programming - Modula 3 \n",
    "#Syntax of Python - C and ABC programming "
   ]
  },
  {
   "cell_type": "code",
   "execution_count": 6,
   "id": "d716c990",
   "metadata": {},
   "outputs": [],
   "source": [
    "#Python 1.0 - 1994 \n",
    "#Python 2.0 - 2000\n",
    "#Python 3.0 - 2008 \n",
    "#Python 3.6.3 - 2016\n",
    "#Python 3.8 - 2020\n",
    "#Python 3.9 - 2020\n",
    "#Python 3.10 - 2021"
   ]
  },
  {
   "cell_type": "code",
   "execution_count": 7,
   "id": "a4293692",
   "metadata": {},
   "outputs": [
    {
     "name": "stdout",
     "output_type": "stream",
     "text": [
      "6 4 6 8 6 2\n",
      "0 9 1 9 5 1\n",
      "9 8 9 9 6 2\n",
      "2 6 4 4 4 5\n",
      "7 1 1 5 5 7\n",
      "7 0 8 0 2 8\n",
      "0 3 4 9 0 9\n",
      "4 5 9 9 1 2\n",
      "9 6 4 7 2 4\n",
      "0 8 2 7 2 7\n"
     ]
    }
   ],
   "source": [
    "from random import * \n",
    "for i in range(0,10):\n",
    "    print(randint(0,9),randint(0,9),randint(0,9),randint(0,9),randint(0,9),randint(0,9))"
   ]
  },
  {
   "cell_type": "code",
   "execution_count": 20,
   "id": "5a7b7cd6",
   "metadata": {},
   "outputs": [],
   "source": [
    "_AGE_123_ = 35"
   ]
  },
  {
   "cell_type": "code",
   "execution_count": 9,
   "id": "8a5bd0a8",
   "metadata": {},
   "outputs": [],
   "source": [
    "#Identifier or Variable"
   ]
  },
  {
   "cell_type": "code",
   "execution_count": 14,
   "id": "59cf0951",
   "metadata": {},
   "outputs": [
    {
     "data": {
      "text/plain": [
       "36"
      ]
     },
     "execution_count": 14,
     "metadata": {},
     "output_type": "execute_result"
    }
   ],
   "source": [
    "age_123"
   ]
  },
  {
   "cell_type": "code",
   "execution_count": 13,
   "id": "e7d49f93",
   "metadata": {},
   "outputs": [
    {
     "data": {
      "text/plain": [
       "35"
      ]
     },
     "execution_count": 13,
     "metadata": {},
     "output_type": "execute_result"
    }
   ],
   "source": [
    "AGE_123"
   ]
  },
  {
   "cell_type": "code",
   "execution_count": 18,
   "id": "7693c442",
   "metadata": {},
   "outputs": [
    {
     "data": {
      "text/plain": [
       "35"
      ]
     },
     "execution_count": 18,
     "metadata": {},
     "output_type": "execute_result"
    }
   ],
   "source": [
    "_AGE_123_"
   ]
  },
  {
   "cell_type": "code",
   "execution_count": 21,
   "id": "7c80d22f",
   "metadata": {},
   "outputs": [
    {
     "data": {
      "text/plain": [
       "int"
      ]
     },
     "execution_count": 21,
     "metadata": {},
     "output_type": "execute_result"
    }
   ],
   "source": [
    "age = 35\n",
    "type(age)"
   ]
  },
  {
   "cell_type": "code",
   "execution_count": 22,
   "id": "71f82359",
   "metadata": {},
   "outputs": [
    {
     "data": {
      "text/plain": [
       "float"
      ]
     },
     "execution_count": 22,
     "metadata": {},
     "output_type": "execute_result"
    }
   ],
   "source": [
    "sales = 150.5\n",
    "type(sales)"
   ]
  },
  {
   "cell_type": "code",
   "execution_count": 23,
   "id": "3aa5e3cf",
   "metadata": {},
   "outputs": [
    {
     "data": {
      "text/plain": [
       "str"
      ]
     },
     "execution_count": 23,
     "metadata": {},
     "output_type": "execute_result"
    }
   ],
   "source": [
    "custname = 'Rahul'\n",
    "type(custname)"
   ]
  },
  {
   "cell_type": "code",
   "execution_count": 25,
   "id": "76b0a65e",
   "metadata": {},
   "outputs": [],
   "source": [
    "a = sales>100"
   ]
  },
  {
   "cell_type": "code",
   "execution_count": 26,
   "id": "68179c6d",
   "metadata": {},
   "outputs": [
    {
     "data": {
      "text/plain": [
       "bool"
      ]
     },
     "execution_count": 26,
     "metadata": {},
     "output_type": "execute_result"
    }
   ],
   "source": [
    "type(a)"
   ]
  },
  {
   "cell_type": "code",
   "execution_count": 27,
   "id": "558c8f2f",
   "metadata": {},
   "outputs": [
    {
     "data": {
      "text/plain": [
       "True"
      ]
     },
     "execution_count": 27,
     "metadata": {},
     "output_type": "execute_result"
    }
   ],
   "source": [
    "a"
   ]
  },
  {
   "cell_type": "code",
   "execution_count": 28,
   "id": "adacde49",
   "metadata": {},
   "outputs": [],
   "source": [
    "#Dynamically Typed Programming "
   ]
  },
  {
   "cell_type": "code",
   "execution_count": 30,
   "id": "2ce6d90b",
   "metadata": {},
   "outputs": [
    {
     "data": {
      "text/plain": [
       "36"
      ]
     },
     "execution_count": 30,
     "metadata": {},
     "output_type": "execute_result"
    }
   ],
   "source": [
    "import keyword \n",
    "len(keyword.kwlist)"
   ]
  },
  {
   "cell_type": "code",
   "execution_count": 31,
   "id": "228a89f9",
   "metadata": {},
   "outputs": [
    {
     "data": {
      "text/plain": [
       "['False',\n",
       " 'None',\n",
       " 'True',\n",
       " '__peg_parser__',\n",
       " 'and',\n",
       " 'as',\n",
       " 'assert',\n",
       " 'async',\n",
       " 'await',\n",
       " 'break',\n",
       " 'class',\n",
       " 'continue',\n",
       " 'def',\n",
       " 'del',\n",
       " 'elif',\n",
       " 'else',\n",
       " 'except',\n",
       " 'finally',\n",
       " 'for',\n",
       " 'from',\n",
       " 'global',\n",
       " 'if',\n",
       " 'import',\n",
       " 'in',\n",
       " 'is',\n",
       " 'lambda',\n",
       " 'nonlocal',\n",
       " 'not',\n",
       " 'or',\n",
       " 'pass',\n",
       " 'raise',\n",
       " 'return',\n",
       " 'try',\n",
       " 'while',\n",
       " 'with',\n",
       " 'yield']"
      ]
     },
     "execution_count": 31,
     "metadata": {},
     "output_type": "execute_result"
    }
   ],
   "source": [
    "keyword.kwlist"
   ]
  },
  {
   "cell_type": "code",
   "execution_count": 33,
   "id": "90867d3a",
   "metadata": {},
   "outputs": [],
   "source": [
    "false = 'Rahul'"
   ]
  },
  {
   "cell_type": "code",
   "execution_count": 34,
   "id": "be8678b7",
   "metadata": {},
   "outputs": [
    {
     "data": {
      "text/plain": [
       "'Rahul'"
      ]
     },
     "execution_count": 34,
     "metadata": {},
     "output_type": "execute_result"
    }
   ],
   "source": [
    "false"
   ]
  },
  {
   "cell_type": "code",
   "execution_count": 43,
   "id": "a3163213",
   "metadata": {},
   "outputs": [
    {
     "name": "stdout",
     "output_type": "stream",
     "text": [
      "1294357295248\n",
      "1294357295760\n"
     ]
    }
   ],
   "source": [
    "a = 255.5\n",
    "b = 255.5\n",
    "\n",
    "print(id(a))\n",
    "print(id(b))"
   ]
  },
  {
   "cell_type": "code",
   "execution_count": 38,
   "id": "0753df51",
   "metadata": {},
   "outputs": [
    {
     "name": "stdout",
     "output_type": "stream",
     "text": [
      "1294357295536\n",
      "1294357295696\n"
     ]
    }
   ],
   "source": [
    "a = 1000\n",
    "b = 1000\n",
    "\n",
    "print(id(a))\n",
    "print(id(b))"
   ]
  },
  {
   "cell_type": "code",
   "execution_count": 44,
   "id": "c2cf409b",
   "metadata": {},
   "outputs": [],
   "source": [
    "a = 'TheScholar'"
   ]
  },
  {
   "cell_type": "code",
   "execution_count": 45,
   "id": "046e05e3",
   "metadata": {},
   "outputs": [
    {
     "data": {
      "text/plain": [
       "'TheScholar'"
      ]
     },
     "execution_count": 45,
     "metadata": {},
     "output_type": "execute_result"
    }
   ],
   "source": [
    "a"
   ]
  },
  {
   "cell_type": "code",
   "execution_count": 46,
   "id": "835927f1",
   "metadata": {},
   "outputs": [
    {
     "data": {
      "text/plain": [
       "'S'"
      ]
     },
     "execution_count": 46,
     "metadata": {},
     "output_type": "execute_result"
    }
   ],
   "source": [
    "a[3]"
   ]
  },
  {
   "cell_type": "code",
   "execution_count": 47,
   "id": "b8db2580",
   "metadata": {},
   "outputs": [
    {
     "data": {
      "text/plain": [
       "'Sch'"
      ]
     },
     "execution_count": 47,
     "metadata": {},
     "output_type": "execute_result"
    }
   ],
   "source": [
    "a[3:6]"
   ]
  },
  {
   "cell_type": "code",
   "execution_count": 48,
   "id": "79662a3f",
   "metadata": {},
   "outputs": [
    {
     "data": {
      "text/plain": [
       "'Scho'"
      ]
     },
     "execution_count": 48,
     "metadata": {},
     "output_type": "execute_result"
    }
   ],
   "source": [
    "a[3:7]"
   ]
  },
  {
   "cell_type": "code",
   "execution_count": 49,
   "id": "3f852e76",
   "metadata": {},
   "outputs": [
    {
     "data": {
      "text/plain": [
       "'S'"
      ]
     },
     "execution_count": 49,
     "metadata": {},
     "output_type": "execute_result"
    }
   ],
   "source": [
    "a[-7]"
   ]
  },
  {
   "cell_type": "code",
   "execution_count": 52,
   "id": "640667fb",
   "metadata": {},
   "outputs": [
    {
     "data": {
      "text/plain": [
       "'lohcS'"
      ]
     },
     "execution_count": 52,
     "metadata": {},
     "output_type": "execute_result"
    }
   ],
   "source": [
    "a[-3:-8:-1]"
   ]
  },
  {
   "cell_type": "code",
   "execution_count": 53,
   "id": "465d5682",
   "metadata": {},
   "outputs": [
    {
     "data": {
      "text/plain": [
       "'eSchol'"
      ]
     },
     "execution_count": 53,
     "metadata": {},
     "output_type": "execute_result"
    }
   ],
   "source": [
    "a[-8:8]"
   ]
  },
  {
   "cell_type": "code",
   "execution_count": 55,
   "id": "9c3d97a6",
   "metadata": {},
   "outputs": [
    {
     "data": {
      "text/plain": [
       "'lohcS'"
      ]
     },
     "execution_count": 55,
     "metadata": {},
     "output_type": "execute_result"
    }
   ],
   "source": [
    "a[7:-8:-1]"
   ]
  },
  {
   "cell_type": "code",
   "execution_count": 56,
   "id": "553b2979",
   "metadata": {},
   "outputs": [
    {
     "data": {
      "text/plain": [
       "'Scholar'"
      ]
     },
     "execution_count": 56,
     "metadata": {},
     "output_type": "execute_result"
    }
   ],
   "source": [
    "a[3:]"
   ]
  },
  {
   "cell_type": "code",
   "execution_count": 57,
   "id": "c5102732",
   "metadata": {},
   "outputs": [
    {
     "data": {
      "text/plain": [
       "'The'"
      ]
     },
     "execution_count": 57,
     "metadata": {},
     "output_type": "execute_result"
    }
   ],
   "source": [
    "a[:3]"
   ]
  },
  {
   "cell_type": "code",
   "execution_count": 36,
   "id": "2cd4469f",
   "metadata": {},
   "outputs": [],
   "source": [
    "#Python Collection Datatypes or Data Structures \n",
    "    #List \n",
    "    #Tuple \n",
    "    #Dictionaries \n",
    "    #Sets \n",
    "        #Frozensets"
   ]
  },
  {
   "cell_type": "code",
   "execution_count": 87,
   "id": "09b041b8",
   "metadata": {},
   "outputs": [],
   "source": [
    "ages = [21,23,23,44,33,22,33,22]"
   ]
  },
  {
   "cell_type": "code",
   "execution_count": 60,
   "id": "2f4a6c6e",
   "metadata": {},
   "outputs": [
    {
     "data": {
      "text/plain": [
       "list"
      ]
     },
     "execution_count": 60,
     "metadata": {},
     "output_type": "execute_result"
    }
   ],
   "source": [
    "type(ages)"
   ]
  },
  {
   "cell_type": "code",
   "execution_count": 62,
   "id": "e62d2f18",
   "metadata": {},
   "outputs": [
    {
     "data": {
      "text/plain": [
       "22"
      ]
     },
     "execution_count": 62,
     "metadata": {},
     "output_type": "execute_result"
    }
   ],
   "source": [
    "ages[-3]"
   ]
  },
  {
   "cell_type": "code",
   "execution_count": 63,
   "id": "d7b4465a",
   "metadata": {},
   "outputs": [
    {
     "data": {
      "text/plain": [
       "[44, 33, 22, 33]"
      ]
     },
     "execution_count": 63,
     "metadata": {},
     "output_type": "execute_result"
    }
   ],
   "source": [
    "ages[3:7]"
   ]
  },
  {
   "cell_type": "code",
   "execution_count": 64,
   "id": "3f5e7ee4",
   "metadata": {},
   "outputs": [
    {
     "data": {
      "text/plain": [
       "8"
      ]
     },
     "execution_count": 64,
     "metadata": {},
     "output_type": "execute_result"
    }
   ],
   "source": [
    "len(ages)"
   ]
  },
  {
   "cell_type": "code",
   "execution_count": 65,
   "id": "638d9bcf",
   "metadata": {},
   "outputs": [
    {
     "data": {
      "text/plain": [
       "221"
      ]
     },
     "execution_count": 65,
     "metadata": {},
     "output_type": "execute_result"
    }
   ],
   "source": [
    "sum(ages)"
   ]
  },
  {
   "cell_type": "code",
   "execution_count": 66,
   "id": "abcc2ce5",
   "metadata": {},
   "outputs": [
    {
     "data": {
      "text/plain": [
       "21"
      ]
     },
     "execution_count": 66,
     "metadata": {},
     "output_type": "execute_result"
    }
   ],
   "source": [
    "min(ages)"
   ]
  },
  {
   "cell_type": "code",
   "execution_count": 68,
   "id": "0670aee3",
   "metadata": {},
   "outputs": [
    {
     "data": {
      "text/plain": [
       "44"
      ]
     },
     "execution_count": 68,
     "metadata": {},
     "output_type": "execute_result"
    }
   ],
   "source": [
    "max(ages)"
   ]
  },
  {
   "cell_type": "code",
   "execution_count": 70,
   "id": "aa1e998b",
   "metadata": {},
   "outputs": [],
   "source": [
    "ages.append(100)"
   ]
  },
  {
   "cell_type": "code",
   "execution_count": 71,
   "id": "ccd8f083",
   "metadata": {},
   "outputs": [
    {
     "data": {
      "text/plain": [
       "[21, 23, 23, 44, 33, 22, 33, 22, 100]"
      ]
     },
     "execution_count": 71,
     "metadata": {},
     "output_type": "execute_result"
    }
   ],
   "source": [
    "ages"
   ]
  },
  {
   "cell_type": "code",
   "execution_count": 73,
   "id": "b77280a6",
   "metadata": {},
   "outputs": [],
   "source": [
    "ages.append([101,102,103])"
   ]
  },
  {
   "cell_type": "code",
   "execution_count": 74,
   "id": "fd8733e6",
   "metadata": {},
   "outputs": [
    {
     "data": {
      "text/plain": [
       "[21, 23, 23, 44, 33, 22, 33, 22, 100, [101, 102, 103]]"
      ]
     },
     "execution_count": 74,
     "metadata": {},
     "output_type": "execute_result"
    }
   ],
   "source": [
    "ages"
   ]
  },
  {
   "cell_type": "code",
   "execution_count": 76,
   "id": "92cf0320",
   "metadata": {},
   "outputs": [
    {
     "data": {
      "text/plain": [
       "102"
      ]
     },
     "execution_count": 76,
     "metadata": {},
     "output_type": "execute_result"
    }
   ],
   "source": [
    "ages[-1][1]"
   ]
  },
  {
   "cell_type": "code",
   "execution_count": 77,
   "id": "47c52574",
   "metadata": {},
   "outputs": [
    {
     "data": {
      "text/plain": [
       "[101, 102, 103]"
      ]
     },
     "execution_count": 77,
     "metadata": {},
     "output_type": "execute_result"
    }
   ],
   "source": [
    "ages.pop(-1)"
   ]
  },
  {
   "cell_type": "code",
   "execution_count": 80,
   "id": "41cc3ab1",
   "metadata": {},
   "outputs": [],
   "source": [
    "del ages[-1]"
   ]
  },
  {
   "cell_type": "code",
   "execution_count": 83,
   "id": "76aa4d85",
   "metadata": {},
   "outputs": [],
   "source": [
    "ages.extend([100,101,102])"
   ]
  },
  {
   "cell_type": "code",
   "execution_count": 85,
   "id": "0b4679ec",
   "metadata": {},
   "outputs": [],
   "source": [
    "ages.clear()"
   ]
  },
  {
   "cell_type": "code",
   "execution_count": 89,
   "id": "a121bf39",
   "metadata": {},
   "outputs": [],
   "source": [
    "ages1 = ages.copy()"
   ]
  },
  {
   "cell_type": "code",
   "execution_count": 90,
   "id": "63b6c044",
   "metadata": {},
   "outputs": [],
   "source": [
    "ages2 = ages"
   ]
  },
  {
   "cell_type": "code",
   "execution_count": 94,
   "id": "a6a08f34",
   "metadata": {},
   "outputs": [],
   "source": [
    "ages[0]=100"
   ]
  },
  {
   "cell_type": "code",
   "execution_count": 95,
   "id": "dab48693",
   "metadata": {},
   "outputs": [
    {
     "data": {
      "text/plain": [
       "[100, 23, 23, 44, 33, 22, 33, 22]"
      ]
     },
     "execution_count": 95,
     "metadata": {},
     "output_type": "execute_result"
    }
   ],
   "source": [
    "ages"
   ]
  },
  {
   "cell_type": "code",
   "execution_count": 96,
   "id": "48eb842d",
   "metadata": {},
   "outputs": [
    {
     "data": {
      "text/plain": [
       "[21, 23, 23, 44, 33, 22, 33, 22]"
      ]
     },
     "execution_count": 96,
     "metadata": {},
     "output_type": "execute_result"
    }
   ],
   "source": [
    "ages1"
   ]
  },
  {
   "cell_type": "code",
   "execution_count": 97,
   "id": "3fbaa64b",
   "metadata": {},
   "outputs": [
    {
     "data": {
      "text/plain": [
       "[100, 23, 23, 44, 33, 22, 33, 22]"
      ]
     },
     "execution_count": 97,
     "metadata": {},
     "output_type": "execute_result"
    }
   ],
   "source": [
    "ages2"
   ]
  },
  {
   "cell_type": "code",
   "execution_count": 98,
   "id": "03d3e132",
   "metadata": {},
   "outputs": [
    {
     "name": "stdout",
     "output_type": "stream",
     "text": [
      "1294347341952\n",
      "1294347341952\n",
      "1294348127488\n"
     ]
    }
   ],
   "source": [
    "print(id(ages))\n",
    "print(id(ages2))\n",
    "print(id(ages1))"
   ]
  },
  {
   "cell_type": "code",
   "execution_count": 99,
   "id": "ab711372",
   "metadata": {},
   "outputs": [],
   "source": [
    "del ages2"
   ]
  },
  {
   "cell_type": "code",
   "execution_count": 101,
   "id": "3167a8f4",
   "metadata": {},
   "outputs": [],
   "source": [
    "del ages1"
   ]
  },
  {
   "cell_type": "code",
   "execution_count": 103,
   "id": "13fedbeb",
   "metadata": {},
   "outputs": [
    {
     "data": {
      "text/plain": [
       "2"
      ]
     },
     "execution_count": 103,
     "metadata": {},
     "output_type": "execute_result"
    }
   ],
   "source": [
    "ages.count(22)"
   ]
  },
  {
   "cell_type": "code",
   "execution_count": 105,
   "id": "1a1e7e59",
   "metadata": {},
   "outputs": [
    {
     "data": {
      "text/plain": [
       "5"
      ]
     },
     "execution_count": 105,
     "metadata": {},
     "output_type": "execute_result"
    }
   ],
   "source": [
    "ages.index(22)"
   ]
  },
  {
   "cell_type": "code",
   "execution_count": 107,
   "id": "cc5cc1ea",
   "metadata": {},
   "outputs": [],
   "source": [
    "ages.insert(4,40)"
   ]
  },
  {
   "cell_type": "code",
   "execution_count": 108,
   "id": "66cf1867",
   "metadata": {},
   "outputs": [
    {
     "data": {
      "text/plain": [
       "[100, 23, 23, 44, 40, 33, 22, 33, 22]"
      ]
     },
     "execution_count": 108,
     "metadata": {},
     "output_type": "execute_result"
    }
   ],
   "source": [
    "ages"
   ]
  },
  {
   "cell_type": "code",
   "execution_count": 110,
   "id": "f86d1d11",
   "metadata": {},
   "outputs": [
    {
     "data": {
      "text/plain": [
       "100"
      ]
     },
     "execution_count": 110,
     "metadata": {},
     "output_type": "execute_result"
    }
   ],
   "source": [
    "ages.pop(0)"
   ]
  },
  {
   "cell_type": "code",
   "execution_count": 112,
   "id": "0d45584d",
   "metadata": {},
   "outputs": [],
   "source": [
    "ages.remove(33)"
   ]
  },
  {
   "cell_type": "code",
   "execution_count": 114,
   "id": "6b9b711b",
   "metadata": {},
   "outputs": [],
   "source": [
    "ages.reverse()"
   ]
  },
  {
   "cell_type": "code",
   "execution_count": 116,
   "id": "fd4ec893",
   "metadata": {},
   "outputs": [],
   "source": [
    "ages.sort()"
   ]
  },
  {
   "cell_type": "code",
   "execution_count": 118,
   "id": "b504a06b",
   "metadata": {},
   "outputs": [],
   "source": [
    "ages.sort(reverse=True)"
   ]
  },
  {
   "cell_type": "code",
   "execution_count": 119,
   "id": "ee876eb8",
   "metadata": {},
   "outputs": [
    {
     "data": {
      "text/plain": [
       "[44, 40, 33, 23, 23, 22]"
      ]
     },
     "execution_count": 119,
     "metadata": {},
     "output_type": "execute_result"
    }
   ],
   "source": [
    "ages"
   ]
  },
  {
   "cell_type": "code",
   "execution_count": 120,
   "id": "666b2339",
   "metadata": {},
   "outputs": [],
   "source": [
    "list1 = ['A',12,12.5,True]"
   ]
  },
  {
   "cell_type": "code",
   "execution_count": 122,
   "id": "ff4629b6",
   "metadata": {},
   "outputs": [
    {
     "data": {
      "text/plain": [
       "str"
      ]
     },
     "execution_count": 122,
     "metadata": {},
     "output_type": "execute_result"
    }
   ],
   "source": [
    "type(list1[0])"
   ]
  },
  {
   "cell_type": "code",
   "execution_count": 123,
   "id": "d4e3a35b",
   "metadata": {},
   "outputs": [
    {
     "data": {
      "text/plain": [
       "int"
      ]
     },
     "execution_count": 123,
     "metadata": {},
     "output_type": "execute_result"
    }
   ],
   "source": [
    "type(list1[1])"
   ]
  },
  {
   "cell_type": "code",
   "execution_count": 124,
   "id": "0e7e2306",
   "metadata": {},
   "outputs": [
    {
     "data": {
      "text/plain": [
       "float"
      ]
     },
     "execution_count": 124,
     "metadata": {},
     "output_type": "execute_result"
    }
   ],
   "source": [
    "type(list1[2])"
   ]
  },
  {
   "cell_type": "code",
   "execution_count": 125,
   "id": "52a78cd3",
   "metadata": {},
   "outputs": [
    {
     "data": {
      "text/plain": [
       "bool"
      ]
     },
     "execution_count": 125,
     "metadata": {},
     "output_type": "execute_result"
    }
   ],
   "source": [
    "type(list1[3])"
   ]
  },
  {
   "cell_type": "code",
   "execution_count": 130,
   "id": "f4974624",
   "metadata": {},
   "outputs": [],
   "source": [
    "#Duplicates are allowed \n",
    "#Heterogeneous data allowed \n",
    "#Values enclosed in the square bracket \n",
    "#Growable in nature \n",
    "#Mutable in nature"
   ]
  },
  {
   "cell_type": "code",
   "execution_count": 128,
   "id": "793fbd7e",
   "metadata": {},
   "outputs": [],
   "source": [
    "list1[0] = 'R'"
   ]
  },
  {
   "cell_type": "code",
   "execution_count": 129,
   "id": "8cb8f196",
   "metadata": {},
   "outputs": [
    {
     "data": {
      "text/plain": [
       "['R', 12, 12.5, True]"
      ]
     },
     "execution_count": 129,
     "metadata": {},
     "output_type": "execute_result"
    }
   ],
   "source": [
    "list1"
   ]
  },
  {
   "cell_type": "code",
   "execution_count": 131,
   "id": "e69bf3e3",
   "metadata": {},
   "outputs": [],
   "source": [
    "#Tuples \n",
    "ages = (21,22,32,33,54,33)"
   ]
  },
  {
   "cell_type": "code",
   "execution_count": 133,
   "id": "b38571e3",
   "metadata": {},
   "outputs": [
    {
     "data": {
      "text/plain": [
       "tuple"
      ]
     },
     "execution_count": 133,
     "metadata": {},
     "output_type": "execute_result"
    }
   ],
   "source": [
    "type(ages)"
   ]
  },
  {
   "cell_type": "code",
   "execution_count": 135,
   "id": "82e573ab",
   "metadata": {},
   "outputs": [
    {
     "ename": "TypeError",
     "evalue": "'tuple' object does not support item assignment",
     "output_type": "error",
     "traceback": [
      "\u001b[1;31m---------------------------------------------------------------------------\u001b[0m",
      "\u001b[1;31mTypeError\u001b[0m                                 Traceback (most recent call last)",
      "\u001b[1;32m~\\AppData\\Local\\Temp/ipykernel_8188/557339185.py\u001b[0m in \u001b[0;36m<module>\u001b[1;34m\u001b[0m\n\u001b[1;32m----> 1\u001b[1;33m \u001b[0mages\u001b[0m\u001b[1;33m[\u001b[0m\u001b[1;36m0\u001b[0m\u001b[1;33m]\u001b[0m\u001b[1;33m=\u001b[0m\u001b[1;36m22\u001b[0m\u001b[1;33m\u001b[0m\u001b[1;33m\u001b[0m\u001b[0m\n\u001b[0m",
      "\u001b[1;31mTypeError\u001b[0m: 'tuple' object does not support item assignment"
     ]
    }
   ],
   "source": [
    "ages[0]=22"
   ]
  },
  {
   "cell_type": "code",
   "execution_count": 137,
   "id": "7ba5ce7f",
   "metadata": {},
   "outputs": [
    {
     "data": {
      "text/plain": [
       "1294350432960"
      ]
     },
     "execution_count": 137,
     "metadata": {},
     "output_type": "execute_result"
    }
   ],
   "source": [
    "ages\n",
    "id(ages)"
   ]
  },
  {
   "cell_type": "code",
   "execution_count": 139,
   "id": "8c7b14ff",
   "metadata": {},
   "outputs": [],
   "source": [
    "a = list(ages)"
   ]
  },
  {
   "cell_type": "code",
   "execution_count": 141,
   "id": "1815a842",
   "metadata": {},
   "outputs": [],
   "source": [
    "a[0]=22"
   ]
  },
  {
   "cell_type": "code",
   "execution_count": 144,
   "id": "c0734baf",
   "metadata": {},
   "outputs": [],
   "source": [
    "ages = tuple(a)"
   ]
  },
  {
   "cell_type": "code",
   "execution_count": 145,
   "id": "d4e18771",
   "metadata": {},
   "outputs": [
    {
     "data": {
      "text/plain": [
       "1294350431904"
      ]
     },
     "execution_count": 145,
     "metadata": {},
     "output_type": "execute_result"
    }
   ],
   "source": [
    "id(ages)"
   ]
  }
 ],
 "metadata": {
  "kernelspec": {
   "display_name": "Python 3 (ipykernel)",
   "language": "python",
   "name": "python3"
  },
  "language_info": {
   "codemirror_mode": {
    "name": "ipython",
    "version": 3
   },
   "file_extension": ".py",
   "mimetype": "text/x-python",
   "name": "python",
   "nbconvert_exporter": "python",
   "pygments_lexer": "ipython3",
   "version": "3.9.7"
  }
 },
 "nbformat": 4,
 "nbformat_minor": 5
}
